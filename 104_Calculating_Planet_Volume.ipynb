{
 "cells": [
  {
   "cell_type": "code",
   "execution_count": 1,
   "id": "84c0b35d",
   "metadata": {},
   "outputs": [],
   "source": [
    "  import numpy as np"
   ]
  },
  {
   "cell_type": "code",
   "execution_count": 3,
   "id": "d77d4f61",
   "metadata": {},
   "outputs": [
    {
     "name": "stdout",
     "output_type": "stream",
     "text": [
      "4188.790204786391\n"
     ]
    }
   ],
   "source": [
    "radii = np.array ([2439.7, 6051.8, 6371, 3389.7, 69911, 58232, 25362, 24622])\n",
    "\n",
    "r = 10 #radius equals  10\n",
    "volume = 4/3*np.pi * r**3 #cubed\n",
    "print(volume) #Volume for one planet"
   ]
  },
  {
   "cell_type": "code",
   "execution_count": 4,
   "id": "611c22c3",
   "metadata": {},
   "outputs": [
    {
     "name": "stdout",
     "output_type": "stream",
     "text": [
      "[6.08272087e+10 9.28415346e+11 1.08320692e+12 1.63144486e+11\n",
      " 1.43128181e+15 8.27129915e+14 6.83343557e+13 6.25257040e+13]\n"
     ]
    }
   ],
   "source": [
    "#We want to show how numpy can calculate all volumes here\n",
    "\n",
    "volumes = 4/3*np.pi * radii**3 #cubed #for all radii\n",
    "print(volumes) #Volume for one planet"
   ]
  },
  {
   "cell_type": "code",
   "execution_count": 8,
   "id": "06fa2456",
   "metadata": {},
   "outputs": [
    {
     "name": "stdout",
     "output_type": "stream",
     "text": [
      "[5.79058358e+07 1.17709770e+09 1.63187806e+08 ... 1.95432196e+08\n",
      " 3.32599483e+09 1.35226235e+09]\n"
     ]
    }
   ],
   "source": [
    "radii = np.random.randint(1,1000, 1000000) #Values 1-1000, 1 million observations\n",
    "volumes = 4/3 * np.pi * radii**3 #cubed #for all radii\n",
    "print(volumes) #Volume for one planet"
   ]
  },
  {
   "cell_type": "code",
   "execution_count": null,
   "id": "d1962e6b",
   "metadata": {},
   "outputs": [],
   "source": []
  },
  {
   "cell_type": "code",
   "execution_count": null,
   "id": "5521a477",
   "metadata": {},
   "outputs": [],
   "source": []
  }
 ],
 "metadata": {
  "kernelspec": {
   "display_name": "Python 3 (ipykernel)",
   "language": "python",
   "name": "python3"
  },
  "language_info": {
   "codemirror_mode": {
    "name": "ipython",
    "version": 3
   },
   "file_extension": ".py",
   "mimetype": "text/x-python",
   "name": "python",
   "nbconvert_exporter": "python",
   "pygments_lexer": "ipython3",
   "version": "3.11.5"
  }
 },
 "nbformat": 4,
 "nbformat_minor": 5
}
